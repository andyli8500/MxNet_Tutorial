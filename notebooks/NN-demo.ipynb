{
 "cells": [
  {
   "cell_type": "code",
   "execution_count": null,
   "metadata": {},
   "outputs": [],
   "source": [
    "import mxnet as mx\n",
    "import matplotlib.pyplot as plt\n",
    "import numpy as np\n",
    "\n",
    "%matplotlib inline"
   ]
  },
  {
   "cell_type": "code",
   "execution_count": null,
   "metadata": {},
   "outputs": [],
   "source": [
    "# plt.style.available\n",
    "plt.style.use('seaborn-poster')"
   ]
  },
  {
   "cell_type": "markdown",
   "metadata": {},
   "source": [
    "## Generate sample data"
   ]
  },
  {
   "cell_type": "code",
   "execution_count": null,
   "metadata": {},
   "outputs": [],
   "source": [
    "N = 100 # number of points per class\n",
    "D = 2 # dimensionality\n",
    "K = 3 # number of classes\n",
    "X = np.zeros((N*K,D)) # data matrix (each row = single example)\n",
    "y = np.zeros(N*K, dtype='uint8') # class labels\n",
    "for j in xrange(K):\n",
    "    ix = range(N*j,N*(j+1))\n",
    "    r = np.linspace(0.0,1,N) # radius\n",
    "    t = np.linspace(j*4,(j+1)*4,N) + np.random.randn(N)*0.2 # theta\n",
    "    X[ix] = np.c_[r*np.sin(t), r*np.cos(t)]\n",
    "    y[ix] = j\n",
    "    \n",
    "# lets visualize the data:\n",
    "plt.scatter(X[:, 0], X[:, 1], c=y, s=40, cmap=plt.cm.Spectral)"
   ]
  },
  {
   "cell_type": "code",
   "execution_count": null,
   "metadata": {},
   "outputs": [],
   "source": [
    "num_samples = X.shape[0]\n",
    "\n",
    "X.shape, y.shape"
   ]
  },
  {
   "cell_type": "code",
   "execution_count": null,
   "metadata": {},
   "outputs": [],
   "source": [
    "# A single method to initilize the Neural Network parameters\n",
    "\n",
    "def model_init(sym, lr, mm):\n",
    "    \n",
    "    model = mx.mod.Module(symbol=sym, context=mx.cpu(), data_names=['data'], label_names=['softmax_label'])\n",
    "\n",
    "    model.bind(data_shapes=train_iter.provide_data, label_shapes=train_iter.provide_label)\n",
    "\n",
    "    # initialize parameters by uniform random numbers\n",
    "    model.init_params(initializer=mx.init.Uniform(scale=.1))\n",
    "\n",
    "    # use SGD with learning rate to train\n",
    "    model.init_optimizer(optimizer='sgd', optimizer_params=({'learning_rate': lr, 'momentum': mm}))\n",
    "\n",
    "    return model"
   ]
  },
  {
   "cell_type": "code",
   "execution_count": null,
   "metadata": {},
   "outputs": [],
   "source": [
    "# Method to train the model\n",
    "\n",
    "import time\n",
    "\n",
    "def model_train(model, train_iter, metric, nepoch):\n",
    "    # train n epochs, i.e. going over the data iter one pass\n",
    "    for epoch in range(nepoch):\n",
    "        train_iter.reset()\n",
    "        metric.reset()\n",
    "        \n",
    "        st = time.time()\n",
    "        \n",
    "        for batch in train_iter:\n",
    "            model.forward(batch, is_train=True)       # compute predictions\n",
    "            model.update_metric(metric, batch.label)  # accumulate prediction accuracy\n",
    "            model.backward()                          # compute gradients\n",
    "            model.update()                            # update parameters\n",
    "        \n",
    "        et = time.time()\n",
    "        \n",
    "        print('Epoch %d, Training %s, Time %s' % (epoch, metric.get(), et - st))\n",
    "        \n",
    "    return model"
   ]
  },
  {
   "cell_type": "code",
   "execution_count": null,
   "metadata": {},
   "outputs": [],
   "source": []
  },
  {
   "cell_type": "code",
   "execution_count": null,
   "metadata": {},
   "outputs": [],
   "source": [
    "# Put data into batches for MxNet\n",
    "\n",
    "batch_size = 1\n",
    "train_iter = mx.io.NDArrayIter(X,y, batch_size, shuffle=True)"
   ]
  },
  {
   "cell_type": "markdown",
   "metadata": {},
   "source": [
    "## Single Layer Neural Network - NN without hidden layers"
   ]
  },
  {
   "cell_type": "code",
   "execution_count": null,
   "metadata": {},
   "outputs": [],
   "source": [
    "# input layer\n",
    "data = mx.sym.Variable('data')\n",
    "\n",
    "# output layer\n",
    "fc2 = mx.sym.FullyConnected(data, name='fc2', num_hidden=3)\n",
    "softmax = mx.sym.SoftmaxOutput(fc2, name='softmax') # use softmax to get the decision percentage\n",
    "\n",
    "mx.viz.plot_network(softmax)"
   ]
  },
  {
   "cell_type": "code",
   "execution_count": null,
   "metadata": {
    "scrolled": true
   },
   "outputs": [],
   "source": [
    "model = model_init(softmax, 0.0001, 0.9)\n",
    "\n",
    "# use accuracy as the metric\n",
    "metric = mx.metric.create('acc')\n",
    "\n",
    "# train the model\n",
    "model = model_train(model, train_iter, metric, 100)"
   ]
  },
  {
   "cell_type": "code",
   "execution_count": null,
   "metadata": {},
   "outputs": [],
   "source": [
    "# Method to visualize decision boundary of the classifier\n",
    "\n",
    "def plot_decision_boundary(model, X, title, cnt=None):\n",
    "    mod = model\n",
    "    \n",
    "    # create a mesh to plot in\n",
    "    h = .02\n",
    "    x_min, x_max = X[:, 0].min() - 0.5, X[:, 0].max() + 0.5\n",
    "    y_min, y_max = X[:, 1].min() - 0.5, X[:, 1].max() + 0.5\n",
    "    xx, yy = np.meshgrid(np.arange(x_min, x_max, h),\n",
    "                         np.arange(y_min, y_max, h))\n",
    "\n",
    "    mesh_data = np.c_[xx.ravel(), yy.ravel()]\n",
    "    \n",
    "    eval_iter = mx.io.NDArrayIter(mesh_data, batch_size=1)\n",
    "    probs = mod.predict(eval_iter).asnumpy()\n",
    "    \n",
    "    Z = np.argmax(probs, axis=1)\n",
    "    Z = Z.reshape(xx.shape)\n",
    "    \n",
    "    accuracy = mod.score(train_iter, 'acc')[0][1]\n",
    "    \n",
    "    plt.contourf(xx, yy, Z, cmap=plt.cm.RdYlBu)\n",
    "    plt.scatter(X[:,0], X[:,1], c=y, cmap=plt.cm.RdYlBu, s=40, edgecolors='k')\n",
    "    \n",
    "    plt.title('%s - Accuracy: %s' % (title, accuracy))\n",
    "    \n",
    "    if cnt != None:\n",
    "        plt.savefig('sc/decision-%s.png' % cnt)\n",
    "    \n",
    "plot_decision_boundary(model, X, 'NN Without Hidden Layer')"
   ]
  },
  {
   "cell_type": "markdown",
   "metadata": {},
   "source": [
    "## 2-Layer Neural Network with 1 neuron"
   ]
  },
  {
   "cell_type": "code",
   "execution_count": null,
   "metadata": {},
   "outputs": [],
   "source": [
    "# input layer\n",
    "data = mx.sym.Variable('data')\n",
    "\n",
    "# hidden layer\n",
    "fc1 = mx.sym.FullyConnected(data, name='fc1', num_hidden=1)\n",
    "relu = mx.sym.Activation(fc1, name='relu1', act_type='relu')\n",
    "\n",
    "# output layer\n",
    "fc2 = mx.sym.FullyConnected(relu, name='fc2', num_hidden=3)\n",
    "softmax = mx.sym.SoftmaxOutput(fc2, name='softmax') # use softmax to get the decision percentage\n",
    "\n",
    "mx.viz.plot_network(softmax)"
   ]
  },
  {
   "cell_type": "code",
   "execution_count": null,
   "metadata": {
    "scrolled": true
   },
   "outputs": [],
   "source": [
    "model2 = model_init(softmax, 0.001, 0.9)\n",
    "\n",
    "# use accuracy as the metric\n",
    "metric = mx.metric.create('acc')\n",
    "\n",
    "# train the model\n",
    "model2 = model_train(model2, train_iter, metric, 100)"
   ]
  },
  {
   "cell_type": "code",
   "execution_count": null,
   "metadata": {},
   "outputs": [],
   "source": [
    "plot_decision_boundary(model2, X, \"NN With Hidden Layer - 1 neuron\")"
   ]
  },
  {
   "cell_type": "markdown",
   "metadata": {},
   "source": [
    "## 2-Layer Neural Network with 6 neurons"
   ]
  },
  {
   "cell_type": "code",
   "execution_count": null,
   "metadata": {},
   "outputs": [],
   "source": [
    "# input layer\n",
    "data = mx.sym.Variable('data')\n",
    "\n",
    "# hidden layer\n",
    "fc1 = mx.sym.FullyConnected(data, name='fc1', num_hidden=6)\n",
    "relu = mx.sym.Activation(fc1, name='relu1', act_type='relu')\n",
    "\n",
    "# output layer\n",
    "fc2 = mx.sym.FullyConnected(relu, name='fc2', num_hidden=3)\n",
    "softmax = mx.sym.SoftmaxOutput(fc2, name='softmax') # use softmax to get the percentage\n",
    "\n",
    "mx.viz.plot_network(softmax)"
   ]
  },
  {
   "cell_type": "code",
   "execution_count": null,
   "metadata": {
    "scrolled": true
   },
   "outputs": [],
   "source": [
    "model3 = model_init(softmax, 0.001, 0.9)\n",
    "\n",
    "# use accuracy as the metric\n",
    "metric = mx.metric.create('acc')\n",
    "\n",
    "# train the model\n",
    "model3 = model_train(model3, train_iter, metric, 100)"
   ]
  },
  {
   "cell_type": "code",
   "execution_count": null,
   "metadata": {},
   "outputs": [],
   "source": [
    "plot_decision_boundary(model3, X, \"NN With Hidden Layer - 6 neuron\")"
   ]
  },
  {
   "cell_type": "markdown",
   "metadata": {},
   "source": [
    "## 2-Layer Neural Network with 20 neurons"
   ]
  },
  {
   "cell_type": "code",
   "execution_count": null,
   "metadata": {},
   "outputs": [],
   "source": [
    "# input layer\n",
    "data = mx.sym.Variable('data')\n",
    "\n",
    "# hidden layer\n",
    "fc1 = mx.sym.FullyConnected(data, name='fc1', num_hidden=20)\n",
    "relu = mx.sym.Activation(fc1, name='relu1', act_type='relu')\n",
    "\n",
    "# output layer\n",
    "fc2 = mx.sym.FullyConnected(relu, name='fc2', num_hidden=3)\n",
    "softmax = mx.sym.SoftmaxOutput(fc2, name='softmax') # use softmax to get the percentage\n",
    "\n",
    "mx.viz.plot_network(softmax)"
   ]
  },
  {
   "cell_type": "code",
   "execution_count": null,
   "metadata": {
    "scrolled": true
   },
   "outputs": [],
   "source": [
    "model4 = model_init(softmax, 0.001, 0.9)\n",
    "\n",
    "# use accuracy as the metric\n",
    "metric = mx.metric.create('acc')\n",
    "\n",
    "# train the model\n",
    "model4 = model_train(model4, train_iter, metric, 100)"
   ]
  },
  {
   "cell_type": "code",
   "execution_count": null,
   "metadata": {},
   "outputs": [],
   "source": [
    "plot_decision_boundary(model4, X, \"NN With Hidden Layer - 20 neuron\")"
   ]
  },
  {
   "cell_type": "markdown",
   "metadata": {},
   "source": [
    "## 2-Layer Neural Network with 100 neurons"
   ]
  },
  {
   "cell_type": "code",
   "execution_count": null,
   "metadata": {},
   "outputs": [],
   "source": [
    "# input layer\n",
    "data = mx.sym.Variable('data')\n",
    "\n",
    "# hidden layer\n",
    "fc1 = mx.sym.FullyConnected(data, name='fc1', num_hidden=100)\n",
    "relu = mx.sym.Activation(fc1, name='relu1', act_type='relu')\n",
    "\n",
    "# output layer\n",
    "fc2 = mx.sym.FullyConnected(relu, name='fc2', num_hidden=3)\n",
    "softmax = mx.sym.SoftmaxOutput(fc2, name='softmax') # use softmax to get the percentage\n",
    "\n",
    "mx.viz.plot_network(softmax)"
   ]
  },
  {
   "cell_type": "code",
   "execution_count": null,
   "metadata": {
    "scrolled": true
   },
   "outputs": [],
   "source": [
    "model5 = model_init(softmax, 0.005, 0.9)\n",
    "\n",
    "# use accuracy as the metric\n",
    "metric = mx.metric.create('acc')\n",
    "\n",
    "# train the model\n",
    "model5 = model_train(model5, train_iter, metric, 200)"
   ]
  },
  {
   "cell_type": "code",
   "execution_count": null,
   "metadata": {},
   "outputs": [],
   "source": [
    "plot_decision_boundary(model5, X, \"NN With Hidden Layer - 100 neuron\")"
   ]
  },
  {
   "cell_type": "code",
   "execution_count": null,
   "metadata": {},
   "outputs": [],
   "source": []
  }
 ],
 "metadata": {
  "kernelspec": {
   "display_name": "Python 2",
   "language": "python",
   "name": "python2"
  },
  "language_info": {
   "codemirror_mode": {
    "name": "ipython",
    "version": 2
   },
   "file_extension": ".py",
   "mimetype": "text/x-python",
   "name": "python",
   "nbconvert_exporter": "python",
   "pygments_lexer": "ipython2",
   "version": "2.7.12"
  }
 },
 "nbformat": 4,
 "nbformat_minor": 2
}
